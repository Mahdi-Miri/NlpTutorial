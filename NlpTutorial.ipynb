{
  "nbformat": 4,
  "nbformat_minor": 0,
  "metadata": {
    "colab": {
      "provenance": [],
      "authorship_tag": "ABX9TyMJvg1mEvxRHhdTPCeqtphm",
      "include_colab_link": true
    },
    "kernelspec": {
      "name": "python3",
      "display_name": "Python 3"
    },
    "language_info": {
      "name": "python"
    }
  },
  "cells": [
    {
      "cell_type": "markdown",
      "metadata": {
        "id": "view-in-github",
        "colab_type": "text"
      },
      "source": [
        "<a href=\"https://colab.research.google.com/github/Mahdi-Miri/NlpTutorial/blob/main/NlpTutorial.ipynb\" target=\"_parent\"><img src=\"https://colab.research.google.com/assets/colab-badge.svg\" alt=\"Open In Colab\"/></a>"
      ]
    },
    {
      "cell_type": "code",
      "source": [
        "!git clone https://github.com/Mahdi-Miri/NlpTutorial.git"
      ],
      "metadata": {
        "id": "_X4jlINOBSiz",
        "outputId": "0b86084d-1db3-4847-ba74-037154f21ae2",
        "colab": {
          "base_uri": "https://localhost:8080/"
        }
      },
      "execution_count": 5,
      "outputs": [
        {
          "output_type": "stream",
          "name": "stdout",
          "text": [
            "Cloning into 'NlpTutorial'...\n",
            "remote: Enumerating objects: 12, done.\u001b[K\n",
            "remote: Counting objects: 100% (12/12), done.\u001b[K\n",
            "remote: Compressing objects: 100% (10/10), done.\u001b[K\n",
            "remote: Total 12 (delta 2), reused 0 (delta 0), pack-reused 0 (from 0)\u001b[K\n",
            "Receiving objects: 100% (12/12), 4.06 KiB | 4.06 MiB/s, done.\n",
            "Resolving deltas: 100% (2/2), done.\n"
          ]
        }
      ]
    },
    {
      "cell_type": "code",
      "execution_count": 6,
      "metadata": {
        "id": "P4_VfB-Q183U"
      },
      "outputs": [],
      "source": [
        "import nltk"
      ]
    },
    {
      "cell_type": "code",
      "source": [
        "nltk.download('punkt')"
      ],
      "metadata": {
        "colab": {
          "base_uri": "https://localhost:8080/"
        },
        "id": "-smbjCtB_Ef7",
        "outputId": "ed2c2573-27bd-4b4d-a8ff-cdf94864b253"
      },
      "execution_count": 7,
      "outputs": [
        {
          "output_type": "stream",
          "name": "stderr",
          "text": [
            "[nltk_data] Downloading package punkt to /root/nltk_data...\n",
            "[nltk_data]   Package punkt is already up-to-date!\n"
          ]
        },
        {
          "output_type": "execute_result",
          "data": {
            "text/plain": [
              "True"
            ]
          },
          "metadata": {},
          "execution_count": 7
        }
      ]
    },
    {
      "cell_type": "code",
      "source": [
        "#sentence tokenization\n",
        "from nltk.tokenize import sent_tokenize\n",
        "test_text = 'i learn python. i learn NLP'\n",
        "sent_tokenize(test_text)"
      ],
      "metadata": {
        "colab": {
          "base_uri": "https://localhost:8080/"
        },
        "id": "NA__fP36_MQ2",
        "outputId": "fdbfbddd-7b51-48a2-91b5-4138225a21f0"
      },
      "execution_count": 8,
      "outputs": [
        {
          "output_type": "execute_result",
          "data": {
            "text/plain": [
              "['i learn python.', 'i learn NLP']"
            ]
          },
          "metadata": {},
          "execution_count": 8
        }
      ]
    },
    {
      "cell_type": "code",
      "source": [
        "test_file = open('NlpTutorial/test.txt',mode ='r')"
      ],
      "metadata": {
        "id": "r0NjDZrE_yiu"
      },
      "execution_count": 12,
      "outputs": []
    },
    {
      "cell_type": "code",
      "source": [
        "test_file.read()"
      ],
      "metadata": {
        "id": "d07IBOSyBc6K",
        "outputId": "9dcca057-2f85-4533-ff8b-03db4a156b81",
        "colab": {
          "base_uri": "https://localhost:8080/",
          "height": 218
        }
      },
      "execution_count": 13,
      "outputs": [
        {
          "output_type": "execute_result",
          "data": {
            "text/plain": [
              "'Lorem ipsum odor amet, consectetuer adipiscing elit. Curabitur sodales magna litora tellus senectus tempus aliquam faucibus donec. Ultrices viverra mi eget eget pulvinar. Rutrum iaculis montes mattis maximus facilisi sagittis litora massa. Eleifend finibus posuere fames convallis pharetra massa adipiscing sit. Nec donec fringilla molestie vitae congue? Sapien vestibulum fermentum, pulvinar ultrices dolor ad proin. Lectus habitant curabitur auctor vestibulum, dignissim eros.\\n\\nCurabitur accumsan interdum ipsum; commodo enim a aptent. Euismod ac accumsan fames proin eu augue rhoncus nec. Dolor purus magna curabitur pellentesque finibus praesent sem. Ridiculus elementum ultrices hac malesuada per nascetur. Laoreet auctor mauris semper ultricies aenean imperdiet eros elit etiam. Ultrices mollis facilisi accumsan, rhoncus accumsan auctor.\\n\\nEgestas curae maecenas leo iaculis eros libero augue maecenas. Mi suscipit suscipit senectus leo penatibus taciti commodo cursus. Massa erat aliquet nascetur fringilla curae urna. Eleifend metus pharetra pulvinar ultricies porttitor semper porta nulla eget. Tempor mi feugiat lobortis velit porttitor. Ultricies fringilla tempor mollis pharetra taciti. Himenaeos curae mattis aptent rutrum vivamus praesent, neque ad.\\n\\nVolutpat leo est; lobortis maecenas et suspendisse. Ligula et magna efficitur tincidunt curabitur, consequat gravida facilisi. Vitae facilisi libero sed egestas curabitur dis lobortis. Pulvinar justo eget, fermentum at aptent curabitur. Enim pharetra augue placerat facilisi dui arcu mollis. Commodo mauris conubia aliquet, fames euismod quis mattis. Fermentum purus taciti eleifend vivamus nascetur ante.\\n\\nCurabitur sociosqu class ligula rutrum nam mollis vel ac? Dis ridiculus faucibus felis, dapibus dictum mollis elementum. Ac orci aptent eget curabitur nec dis augue. Duis sed scelerisque habitasse dis lobortis. Tempus tristique eleifend laoreet eget mollis pellentesque sodales. Semper curae consectetur lectus hac vivamus nisi volutpat leo. Felis quam nullam facilisis mus nullam, fringilla sem facilisis nulla. Nascetur at malesuada morbi quis, posuere eleifend convallis.'"
            ],
            "application/vnd.google.colaboratory.intrinsic+json": {
              "type": "string"
            }
          },
          "metadata": {},
          "execution_count": 13
        }
      ]
    },
    {
      "cell_type": "code",
      "source": [],
      "metadata": {
        "id": "I7-03XImBkun"
      },
      "execution_count": null,
      "outputs": []
    }
  ]
}