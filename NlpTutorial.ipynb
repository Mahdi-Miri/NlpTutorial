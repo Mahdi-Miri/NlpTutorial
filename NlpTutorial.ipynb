{
  "nbformat": 4,
  "nbformat_minor": 0,
  "metadata": {
    "colab": {
      "provenance": [],
      "authorship_tag": "ABX9TyMAkCLwjnlRcYz5UgFUmuU0",
      "include_colab_link": true
    },
    "kernelspec": {
      "name": "python3",
      "display_name": "Python 3"
    },
    "language_info": {
      "name": "python"
    }
  },
  "cells": [
    {
      "cell_type": "markdown",
      "metadata": {
        "id": "view-in-github",
        "colab_type": "text"
      },
      "source": [
        "<a href=\"https://colab.research.google.com/github/Mahdi-Miri/NlpTutorial/blob/main/NlpTutorial.ipynb\" target=\"_parent\"><img src=\"https://colab.research.google.com/assets/colab-badge.svg\" alt=\"Open In Colab\"/></a>"
      ]
    },
    {
      "cell_type": "code",
      "source": [
        "!git clone https://github.com/Mahdi-Miri/NlpTutorial.git"
      ],
      "metadata": {
        "colab": {
          "base_uri": "https://localhost:8080/"
        },
        "id": "_X4jlINOBSiz",
        "outputId": "ba531067-26b7-48e8-bed8-e0bf05219084"
      },
      "execution_count": 20,
      "outputs": [
        {
          "output_type": "stream",
          "name": "stdout",
          "text": [
            "fatal: destination path 'NlpTutorial' already exists and is not an empty directory.\n"
          ]
        }
      ]
    },
    {
      "cell_type": "code",
      "execution_count": 21,
      "metadata": {
        "id": "P4_VfB-Q183U"
      },
      "outputs": [],
      "source": [
        "import nltk"
      ]
    },
    {
      "cell_type": "code",
      "source": [
        "nltk.download('punkt')"
      ],
      "metadata": {
        "colab": {
          "base_uri": "https://localhost:8080/"
        },
        "id": "-smbjCtB_Ef7",
        "outputId": "b60a8a66-8248-463a-904a-836f5a8658de"
      },
      "execution_count": 22,
      "outputs": [
        {
          "output_type": "stream",
          "name": "stderr",
          "text": [
            "[nltk_data] Downloading package punkt to /root/nltk_data...\n",
            "[nltk_data]   Package punkt is already up-to-date!\n"
          ]
        },
        {
          "output_type": "execute_result",
          "data": {
            "text/plain": [
              "True"
            ]
          },
          "metadata": {},
          "execution_count": 22
        }
      ]
    },
    {
      "cell_type": "code",
      "source": [
        "#sentence tokenization\n",
        "from nltk.tokenize import sent_tokenize\n",
        "test_text = 'i learn python. i learn NLP'\n",
        "sent_tokenize(test_text)"
      ],
      "metadata": {
        "colab": {
          "base_uri": "https://localhost:8080/"
        },
        "id": "NA__fP36_MQ2",
        "outputId": "3d599722-f8b2-4074-c34d-967ae178106d"
      },
      "execution_count": 23,
      "outputs": [
        {
          "output_type": "execute_result",
          "data": {
            "text/plain": [
              "['i learn python.', 'i learn NLP']"
            ]
          },
          "metadata": {},
          "execution_count": 23
        }
      ]
    },
    {
      "cell_type": "code",
      "source": [
        "test_file = open('NlpTutorial/test.txt',mode ='r')"
      ],
      "metadata": {
        "id": "r0NjDZrE_yiu"
      },
      "execution_count": 24,
      "outputs": []
    },
    {
      "cell_type": "code",
      "source": [
        "text_read = test_file.read()"
      ],
      "metadata": {
        "id": "d07IBOSyBc6K"
      },
      "execution_count": 25,
      "outputs": []
    },
    {
      "cell_type": "code",
      "source": [
        "print(text_read)"
      ],
      "metadata": {
        "colab": {
          "base_uri": "https://localhost:8080/"
        },
        "id": "I7-03XImBkun",
        "outputId": "a2e274f7-6947-48e0-9b4e-4c07f702fa3d"
      },
      "execution_count": 26,
      "outputs": [
        {
          "output_type": "stream",
          "name": "stdout",
          "text": [
            "Lorem ipsum odor amet, consectetuer adipiscing elit. Curabitur sodales magna litora tellus senectus tempus aliquam faucibus donec. Ultrices viverra mi eget eget pulvinar. Rutrum iaculis montes mattis maximus facilisi sagittis litora massa. Eleifend finibus posuere fames convallis pharetra massa adipiscing sit. Nec donec fringilla molestie vitae congue? Sapien vestibulum fermentum, pulvinar ultrices dolor ad proin. Lectus habitant curabitur auctor vestibulum, dignissim eros.\n",
            "\n",
            "Curabitur accumsan interdum ipsum; commodo enim a aptent. Euismod ac accumsan fames proin eu augue rhoncus nec. Dolor purus magna curabitur pellentesque finibus praesent sem. Ridiculus elementum ultrices hac malesuada per nascetur. Laoreet auctor mauris semper ultricies aenean imperdiet eros elit etiam. Ultrices mollis facilisi accumsan, rhoncus accumsan auctor.\n",
            "\n",
            "Egestas curae maecenas leo iaculis eros libero augue maecenas. Mi suscipit suscipit senectus leo penatibus taciti commodo cursus. Massa erat aliquet nascetur fringilla curae urna. Eleifend metus pharetra pulvinar ultricies porttitor semper porta nulla eget. Tempor mi feugiat lobortis velit porttitor. Ultricies fringilla tempor mollis pharetra taciti. Himenaeos curae mattis aptent rutrum vivamus praesent, neque ad.\n",
            "\n",
            "Volutpat leo est; lobortis maecenas et suspendisse. Ligula et magna efficitur tincidunt curabitur, consequat gravida facilisi. Vitae facilisi libero sed egestas curabitur dis lobortis. Pulvinar justo eget, fermentum at aptent curabitur. Enim pharetra augue placerat facilisi dui arcu mollis. Commodo mauris conubia aliquet, fames euismod quis mattis. Fermentum purus taciti eleifend vivamus nascetur ante.\n",
            "\n",
            "Curabitur sociosqu class ligula rutrum nam mollis vel ac? Dis ridiculus faucibus felis, dapibus dictum mollis elementum. Ac orci aptent eget curabitur nec dis augue. Duis sed scelerisque habitasse dis lobortis. Tempus tristique eleifend laoreet eget mollis pellentesque sodales. Semper curae consectetur lectus hac vivamus nisi volutpat leo. Felis quam nullam facilisis mus nullam, fringilla sem facilisis nulla. Nascetur at malesuada morbi quis, posuere eleifend convallis.\n"
          ]
        }
      ]
    },
    {
      "cell_type": "code",
      "source": [],
      "metadata": {
        "id": "AFah4Q_oCjUI"
      },
      "execution_count": 26,
      "outputs": []
    }
  ]
}